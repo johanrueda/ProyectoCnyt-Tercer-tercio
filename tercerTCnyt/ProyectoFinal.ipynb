{
 "cells": [
  {
   "cell_type": "markdown",
   "metadata": {},
   "source": [
    "# Proyecto Final CNYT 2020-1\n",
    "Johan David Rueda Rodriguez"
   ]
  },
  {
   "cell_type": "markdown",
   "metadata": {},
   "source": [
    "## Algoritmo de Deutsch"
   ]
  },
  {
   "cell_type": "markdown",
   "metadata": {},
   "source": [
    "Para poder desarrollar este algoritmo, y ver sus aplicaciones vamos a desarrollar el Juego de Thanos. Donde vamos a necesitar de lo Cuantico y asi poder salvar al mundo.\n",
    "\n",
    "Vamos a dar un ejemplo de una funcion constante y un funcion balanceada:\n",
    "\n",
    "Constante:\n",
    "\n",
    "f(0) = 0\n",
    "\n",
    "f(1) = 0\n",
    "\n",
    "Balanceada:\n",
    "\n",
    "f(0) = 0\n",
    "\n",
    "f(1) = 1"
   ]
  },
  {
   "cell_type": "markdown",
   "metadata": {},
   "source": [
    "## Caso 1:"
   ]
  },
  {
   "cell_type": "markdown",
   "metadata": {},
   "source": [
    "![\"Caso1\"](caso1.PNG)"
   ]
  },
  {
   "cell_type": "markdown",
   "metadata": {},
   "source": [
    "Ahora aplicamos la regla de Deutsch y vamos a obtener los siguientes Outputs."
   ]
  },
  {
   "cell_type": "markdown",
   "metadata": {},
   "source": [
    "![\"Caso1\"](circuito11.PNG) ![\"Caso1\"](circuito13.PNG)\n",
    "![\"Caso1\"](circuito12.PNG) ![\"Caso1\"](circuito14.PNG)\n",
    "\n"
   ]
  },
  {
   "cell_type": "markdown",
   "metadata": {},
   "source": [
    "### Para los Output anteriores, la matriz resultante seria : \n",
    "$$Uf = \\begin{bmatrix} 1 & 0 & | & 0 & 0\\\\\n",
    "                      0 & 1 & | & 0 & 0\\\\\n",
    "                      ─ & ─ & ─ & ─ & ─\\\\\n",
    "                      0 & 0 & | & 1 & 0\\\\\n",
    "                      0 & 0 &  | &0 & 1\\\\\n",
    "                      \\end{bmatrix}$$\n",
    "                      \n",
    "Y esta es la matriz equivalente a la matriz identidad en IBM, y de esta manera se representaria, en IBM representar esta matriz es colocar los espacios en blanco, pero para más orden visual vamos a trabajarlo como en la siguiente imagen."
   ]
  },
  {
   "cell_type": "markdown",
   "metadata": {},
   "source": [
    "![Circuito](circuito15.PNG)"
   ]
  },
  {
   "cell_type": "markdown",
   "metadata": {},
   "source": [
    "Ahora vamos a interpretar todo lo anterior en el simulador de  IBM \n",
    "![IBM](ibm1.PNG)"
   ]
  },
  {
   "cell_type": "markdown",
   "metadata": {},
   "source": [
    "El recuadro azul que encierra las identidades, representa  la Caja negra. El resultado de este circuito es el siguiente:\n",
    "![Respuesta](respuesta1.PNG)\n",
    "![Respuesta](respuesta11.PNG)\n",
    "Aqui podemos ver los resultados con 1 y 1024 shots, donde obtenemos la mismo.\n",
    "\n",
    "Conclusion:\n",
    "Ya que el resultado del circuito es 0, podemos decir que la función es constante."
   ]
  },
  {
   "cell_type": "markdown",
   "metadata": {},
   "source": [
    "## Caso 2:"
   ]
  },
  {
   "cell_type": "markdown",
   "metadata": {},
   "source": [
    "![\"Caso1\"](caso2.PNG)"
   ]
  },
  {
   "cell_type": "markdown",
   "metadata": {},
   "source": [
    "Ahora aplicamos la regla de Deutsch y vamos a obtener los siguientes Outputs."
   ]
  },
  {
   "cell_type": "markdown",
   "metadata": {},
   "source": [
    "![\"Caso1\"](circuito21.PNG) ![\"Caso1\"](circuito23.PNG)\n",
    "![\"Caso1\"](circuito22.PNG) ![\"Caso1\"](circuito24.PNG)\n"
   ]
  },
  {
   "cell_type": "markdown",
   "metadata": {},
   "source": [
    "### Para los Output anteriores, la matriz resultante seria : \n",
    "$$Uf = \\begin{bmatrix} 1 & 0 & | & 0 & 0\\\\\n",
    "                       0 & 1 & | & 0 & 0\\\\\n",
    "                       ─ & ─ & ─ & ─ & ─\\\\\n",
    "                       0 & 0 & | & 0 & 1\\\\\n",
    "                       0 & 0 & | & 1 & 0\\\\\n",
    "                      \\end{bmatrix}$$\n",
    "                      \n",
    "Y esta es la matriz equivalente a la matriz CNOT, en IBM representar esta matriz es colocar el siguiente simbolo."
   ]
  },
  {
   "cell_type": "markdown",
   "metadata": {},
   "source": [
    "![\"CNOT\"](cnot.PNG)"
   ]
  },
  {
   "cell_type": "markdown",
   "metadata": {},
   "source": [
    "Ahora vamos a interpretar todo lo anterior en el simulador de  IBM \n",
    "![IBM](ibm2.PNG)"
   ]
  },
  {
   "cell_type": "markdown",
   "metadata": {},
   "source": [
    "El recuadro azul que encierra el CNOT, representa  la Caja negra. El resultado de este circuito es el siguiente:\n",
    "![Respuesta](respuesta2.PNG)\n",
    "![Respuesta](respuesta21.PNG)\n",
    "Aqui podemos ver los resultados con 1 y 1024 shots, donde obtenemos la mismo.\n",
    "\n",
    "Conclusion:\n",
    "Ya que el resultado del circuito es 1, podemos decir que la función es balanceada."
   ]
  },
  {
   "cell_type": "markdown",
   "metadata": {},
   "source": [
    "## Caso 3:"
   ]
  },
  {
   "cell_type": "markdown",
   "metadata": {},
   "source": [
    "![\"Caso1\"](caso3.PNG)"
   ]
  },
  {
   "cell_type": "markdown",
   "metadata": {},
   "source": [
    "Ahora aplicamos la regla de Deutsch y vamos a obtener los siguientes Outputs."
   ]
  },
  {
   "cell_type": "markdown",
   "metadata": {},
   "source": [
    "![\"Caso1\"](circuito31.PNG) ![\"Caso1\"](circuito33.PNG)\n",
    "![\"Caso1\"](circuito32.PNG) ![\"Caso1\"](circuito34.PNG)\n"
   ]
  },
  {
   "cell_type": "markdown",
   "metadata": {},
   "source": [
    "### Para los Output anteriores, la matriz resultante seria : \n",
    "$$Uf = \\begin{bmatrix} 0 & 1 & | & 0 & 0\\\\\n",
    "                       1 & 0 & | & 0 & 0\\\\\n",
    "                       ─ & ─ & ─ & ─ & ─\\\\\n",
    "                       0 & 0 & | & 0 & 1\\\\\n",
    "                       0 & 0 & | & 1 & 0\\\\\n",
    "                      \\end{bmatrix}$$\n",
    "                      \n",
    "Y esta es la matriz equivalente a la dinamica entre la matriz identidad y la compuerta X, en IBM representar esta matriz es colocar el siguiente simbolo."
   ]
  },
  {
   "cell_type": "markdown",
   "metadata": {},
   "source": [
    "![\"identidadYx\"](dina3.PNG)"
   ]
  },
  {
   "cell_type": "markdown",
   "metadata": {},
   "source": [
    "Ahora vamos a interpretar todo lo anterior en el simulador de  IBM \n",
    "![IBM](ibm3.PNG)"
   ]
  },
  {
   "cell_type": "markdown",
   "metadata": {},
   "source": [
    "El recuadro azul que encierra la dinamica, representa  la Caja negra. El resultado de este circuito es el siguiente:\n",
    "![Respuesta](respuesta3.PNG)\n",
    "![Respuesta](respuesta31.PNG)\n",
    "Aqui podemos ver los resultados con 1 y 1024 shots, donde obtenemos la mismo.\n",
    "\n",
    "Conclusion:\n",
    "Ya que el resultado del circuito es 0, podemos decir que la función es constante."
   ]
  },
  {
   "cell_type": "markdown",
   "metadata": {},
   "source": [
    "## Caso 4:"
   ]
  },
  {
   "cell_type": "markdown",
   "metadata": {},
   "source": [
    "![\"Caso1\"](caso4.PNG)"
   ]
  },
  {
   "cell_type": "markdown",
   "metadata": {},
   "source": [
    "Ahora aplicamos la regla de Deutsch y vamos a obtener los siguientes Outputs."
   ]
  },
  {
   "cell_type": "markdown",
   "metadata": {},
   "source": [
    "![\"Caso1\"](circuito41.PNG) ![\"Caso1\"](circuito43.PNG)\n",
    "![\"Caso1\"](circuito42.PNG) ![\"Caso1\"](circuito44.PNG)\n"
   ]
  },
  {
   "cell_type": "markdown",
   "metadata": {},
   "source": [
    "### Para los Output anteriores, la matriz resultante seria : \n",
    "$$Uf = \\begin{bmatrix} 0 & 1 & | & 0 & 0\\\\\n",
    "                       1 & 0 & | & 0 & 0\\\\\n",
    "                       ─ & ─ & ─ & ─ & ─\\\\\n",
    "                       0 & 0 & | & 1 & 0\\\\\n",
    "                       0 & 0 & | & 0 & 1\\\\\n",
    "                      \\end{bmatrix}$$\n",
    "                      \n",
    "Y esta es la matriz equivalente a la dinamica entre la matriz identidad y la matriz  CNOT y su resultado se multiplica con la compuerta X, en IBM representar esta matriz es colocar el siguiente simbolo."
   ]
  },
  {
   "cell_type": "markdown",
   "metadata": {},
   "source": [
    "![\"identidadYx\"](dina4.PNG)"
   ]
  },
  {
   "cell_type": "markdown",
   "metadata": {},
   "source": [
    "Ahora vamos a interpretar todo lo anterior en el simulador de  IBM \n",
    "![IBM](ibm4.PNG)"
   ]
  },
  {
   "cell_type": "markdown",
   "metadata": {},
   "source": [
    "El recuadro azul que encierra la dinamica, representa  la Caja negra. El resultado de este circuito es el siguiente:\n",
    "![Respuesta](respuesta4.PNG)\n",
    "![Respuesta](respuesta41.PNG)\n",
    "Aqui podemos ver los resultados con 1 y 1024 shots, donde obtenemos la mismo.\n",
    "\n",
    "Conclusion:\n",
    "Ya que el resultado del circuito es 1, podemos decir que la función es balanceada."
   ]
  },
  {
   "cell_type": "markdown",
   "metadata": {},
   "source": [
    "## Conclusion\n",
    "\n",
    "Como se puede notar en los anteriores circuitos, IBM nos deja abiertos a una gran posibilidad y variedad de realizar diferentes ejercicios, ahora con nuestra regla en general sabemos que cuando el resultado es 1, la funcion es balanceada y cuando el resultado es 0 la funcion es constante, esto siempre se va a cumplir y no tenemos que pensar que pueda existir un error, esto tambien depende de que tan bien estamos formulando y escribiendo el ejercio a la hora de ejecutarlo en el simulador de IBM."
   ]
  },
  {
   "cell_type": "markdown",
   "metadata": {},
   "source": [
    "## Algoritmo de Deutsch-Jozsa"
   ]
  },
  {
   "cell_type": "markdown",
   "metadata": {},
   "source": [
    "Para poder desarrollar este algoritmo, y ver sus aplicaciones vamos a desarrollar las indicaciones del profesor donde van a hacer 2 funciones con n=2: La función f que tiene valor constante 1 y una función f balanceada"
   ]
  },
  {
   "cell_type": "markdown",
   "metadata": {},
   "source": [
    "## Caso 1:"
   ]
  },
  {
   "cell_type": "markdown",
   "metadata": {},
   "source": [
    "![\"Caso1\"](segundopunto1.PNG)"
   ]
  },
  {
   "cell_type": "markdown",
   "metadata": {},
   "source": [
    "Ahora aplicamos la regla de Deutsch-Jozsa y vamos a obtener los siguientes Outputs."
   ]
  },
  {
   "cell_type": "markdown",
   "metadata": {},
   "source": [
    "![\"Caso1\"](circuitop1.PNG) ![\"Caso1\"](circuitop3.PNG)\n",
    "![\"Caso1\"](circuitop2.PNG) ![\"Caso1\"](circuitop4.PNG)\n",
    "![\"Caso1\"](circuitop5.PNG) ![\"Caso1\"](circuitop6.PNG)\n",
    "![\"Caso1\"](circuitop7.PNG) ![\"Caso1\"](circuitop8.PNG)"
   ]
  },
  {
   "cell_type": "markdown",
   "metadata": {},
   "source": [
    "### Para los Output anteriores, la matriz resultante seria : \n",
    "\n",
    "$$Uf = \\begin{bmatrix} 0 & 1 & | & 0 & 0 & | & 0 & 0 & | & 0 & 0\\\\\n",
    "                       1 & 0 & | & 0 & 0 & | & 0 & 0 & | & 0 & 0\\\\\n",
    "                       ─ & ─ & ─ & ─ & ─ & ─ & ─ & ─ & ─ & ─ & ─\\\\\n",
    "                       0 & 0 & | & 0 & 1 & | & 0 & 0 & | & 0 & 0\\\\\n",
    "                       0 & 0 & | & 1 & 0 & | & 0 & 0 & | & 0 & 0\\\\\n",
    "                       ─ & ─ & ─ & ─ & ─ & ─ & ─ & ─ & ─ & ─ & ─\\\\\n",
    "                       0 & 0 & | & 0 & 0 & | & 0 & 1 & | & 0 & 0\\\\\n",
    "                       0 & 0 & | & 0 & 0 & | & 1 & 0 & | & 0 & 0\\\\\n",
    "                       ─ & ─ & ─ & ─ & ─ & ─ & ─ & ─ & ─ & ─ & ─\\\\\n",
    "                       0 & 0 & | & 0 & 0 & | & 0 & 0 & | & 0 & 1\\\\\n",
    "                       0 & 0 & | & 0 & 0 & | & 0 & 0 & | & 1 & 0\\\\\n",
    "                      \\end{bmatrix}$$\n",
    "                      \n",
    "Y esta es la matriz equivalente a la dinamica es un producto tensorial entre la matriz identidad, la matriz X y la matriz identidad, en IBM representar esta matriz es colocar el siguiente simbolo.\n",
    "\n",
    "![\"Dina\"](dina5.PNG)"
   ]
  },
  {
   "cell_type": "markdown",
   "metadata": {},
   "source": [
    "Ahora vamos a interpretar todo lo anterior en el simulador de  IBM \n",
    "![IBM](ibm5.PNG)"
   ]
  },
  {
   "cell_type": "markdown",
   "metadata": {},
   "source": [
    "Despues de la segunda barrera, representa  la Caja negra. El resultado de este circuito es el siguiente:\n",
    "![Respuesta](respuesta5.PNG)\n",
    "![Respuesta](respuesta51.PNG)\n",
    "Aqui podemos ver los resultados con 1 y 1024 shots, donde se ejecuto en london.\n",
    "\n",
    "Conclusion:\n",
    "Como podemos notar en los dos resultados, son diferentes y esto es porque tenemos ruido en la maquina, o simplemente errores y los resultados no son netamente correctos."
   ]
  },
  {
   "cell_type": "markdown",
   "metadata": {},
   "source": [
    "## Caso 2:"
   ]
  },
  {
   "cell_type": "markdown",
   "metadata": {},
   "source": [
    "![\"Caso1\"](segundopunto2.PNG)"
   ]
  },
  {
   "cell_type": "markdown",
   "metadata": {},
   "source": [
    "Ahora aplicamos la regla de Deutsch-Jozsa y vamos a obtener los siguientes Outputs."
   ]
  },
  {
   "cell_type": "markdown",
   "metadata": {},
   "source": [
    "![\"Caso1\"](circuitopp1.PNG) ![\"Caso1\"](circuitopp3.PNG)\n",
    "![\"Caso1\"](circuitopp2.PNG) ![\"Caso1\"](circuitopp4.PNG)\n",
    "![\"Caso1\"](circuitopp5.PNG) ![\"Caso1\"](circuitopp6.PNG)\n",
    "![\"Caso1\"](circuitopp7.PNG) ![\"Caso1\"](circuitopp8.PNG)"
   ]
  },
  {
   "cell_type": "markdown",
   "metadata": {},
   "source": [
    "### Para los Output anteriores, la matriz resultante seria : \n",
    "\n",
    "$$Uf = \\begin{bmatrix} 0 & 1 & | & 0 & 0 & | & 0 & 0 & | & 0 & 0\\\\\n",
    "                       1 & 0 & | & 0 & 0 & | & 0 & 0 & | & 0 & 0\\\\\n",
    "                       ─ & ─ & ─ & ─ & ─ & ─ & ─ & ─ & ─ & ─ & ─\\\\\n",
    "                       0 & 0 & | & 1 & 0 & | & 0 & 0 & | & 0 & 0\\\\\n",
    "                       0 & 0 & | & 0 & 1 & | & 0 & 0 & | & 0 & 0\\\\\n",
    "                       ─ & ─ & ─ & ─ & ─ & ─ & ─ & ─ & ─ & ─ & ─\\\\\n",
    "                       0 & 0 & | & 0 & 0 & | & 1 & 0 & | & 0 & 0\\\\\n",
    "                       0 & 0 & | & 0 & 0 & | & 0 & 1 & | & 0 & 0\\\\\n",
    "                       ─ & ─ & ─ & ─ & ─ & ─ & ─ & ─ & ─ & ─ & ─\\\\\n",
    "                       0 & 0 & | & 0 & 0 & | & 0 & 0 & | & 1 & 0\\\\\n",
    "                       0 & 0 & | & 0 & 0 & | & 0 & 0 & | & 0 & 1\\\\\n",
    "                      \\end{bmatrix}$$\n",
    "                      \n",
    "Y esta es la matriz equivalente a la dinamica siguiente a la imagen, representandolo en IBM.\n",
    "\n",
    "![\"Dina\"](dina6.PNG)"
   ]
  },
  {
   "cell_type": "markdown",
   "metadata": {},
   "source": [
    "Ahora vamos a interpretar todo lo anterior en el simulador de  IBM \n",
    "![IBM](ibm6.PNG)"
   ]
  },
  {
   "cell_type": "markdown",
   "metadata": {},
   "source": [
    "El recuadro azul que encierra la dinamica, representa  la Caja negra. El resultado de este circuito es el siguiente:\n",
    "![Respuesta](respuesta6.PNG)\n",
    "![Respuesta](respuesta61.PNG)\n",
    "Aqui podemos ver los resultados con 1 y 1024 shots, donde se ejecuto en london.\n",
    "\n",
    "Conclusion:\n",
    "Como podemos notar, la funcion es balanceada y esto no lo demuestra el resultado de IBM."
   ]
  },
  {
   "cell_type": "markdown",
   "metadata": {},
   "source": [
    "Conclusiones: Como notamos en los dos casos, cuando lo ejecutamos mas de una vez tenemos unos resultados realmente importantes, y con esto nos damos cuenta que no son perfectos los calculos cuanticos, donde el ruido afecta. Pero lo importante es tener en cuenta que si el resultado es 0 es constante y si es 1 es balanceada."
   ]
  },
  {
   "cell_type": "markdown",
   "metadata": {},
   "source": [
    "## Punto 3"
   ]
  },
  {
   "cell_type": "markdown",
   "metadata": {},
   "source": [
    "![\"Caso1\"](caso5.PNG)\n",
    "\n",
    "Ahora aplicamos la regla de Deutsch-Jozsa y vamos a obtener los siguientes Outputs."
   ]
  },
  {
   "cell_type": "markdown",
   "metadata": {},
   "source": [
    "![\"Caso1\"](p1.PNG) ![\"Caso1\"](p5.PNG)\n",
    "![\"Caso1\"](p2.PNG) ![\"Caso1\"](p6.PNG)\n",
    "![\"Caso1\"](p3.PNG) ![\"Caso1\"](p7.PNG)\n",
    "![\"Caso1\"](p4.PNG) ![\"Caso1\"](p8.PNG)\n",
    "![\"Caso1\"](p9.PNG) ![\"Caso1\"](p10.PNG)\n",
    "![\"Caso1\"](p11.PNG) ![\"Caso1\"](p12.PNG)\n",
    "![\"Caso1\"](p13.PNG) ![\"Caso1\"](p14.PNG)\n",
    "![\"Caso1\"](p15.PNG) ![\"Caso1\"](p16.PNG)\n",
    "\n",
    "Y esta es la matriz equivalente a la dinamica siguiente a la imagen, representandolo en IBM.\n",
    "\n",
    "![\"Dina\"](dina7.PNG)"
   ]
  },
  {
   "cell_type": "markdown",
   "metadata": {},
   "source": [
    "Ahora vamos a interpretar todo lo anterior en el simulador de  IBM \n",
    "![IBM](ibm7.PNG)"
   ]
  },
  {
   "cell_type": "markdown",
   "metadata": {},
   "source": [
    "El recuadro azul que encierra la dinamica, representa  la Caja negra. El resultado de este circuito es el siguiente:\n",
    "![Respuesta](respuesta7.PNG)\n",
    "![Respuesta](respuesta71.PNG)\n",
    "Aqui podemos ver los resultados con 1 y 1024 shots, donde se ejecuto en london.\n",
    "\n",
    "Conclusion:\n",
    "Como notamos en los resultados, la funcion es balanceada como lo sospechabamos desde un principio"
   ]
  }
 ],
 "metadata": {
  "kernelspec": {
   "display_name": "Python 3",
   "language": "python",
   "name": "python3"
  },
  "language_info": {
   "codemirror_mode": {
    "name": "ipython",
    "version": 3
   },
   "file_extension": ".py",
   "mimetype": "text/x-python",
   "name": "python",
   "nbconvert_exporter": "python",
   "pygments_lexer": "ipython3",
   "version": "3.7.4"
  }
 },
 "nbformat": 4,
 "nbformat_minor": 2
}
